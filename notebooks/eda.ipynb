{
 "cells": [
  {
   "cell_type": "markdown",
   "metadata": {},
   "source": [
    "## Data exploration"
   ]
  },
  {
   "cell_type": "code",
   "execution_count": 1,
   "metadata": {},
   "outputs": [
    {
     "name": "stderr",
     "output_type": "stream",
     "text": [
      "2025-03-28 16:13:01.140101: I tensorflow/core/util/port.cc:153] oneDNN custom operations are on. You may see slightly different numerical results due to floating-point round-off errors from different computation orders. To turn them off, set the environment variable `TF_ENABLE_ONEDNN_OPTS=0`.\n",
      "2025-03-28 16:13:01.140608: I external/local_xla/xla/tsl/cuda/cudart_stub.cc:32] Could not find cuda drivers on your machine, GPU will not be used.\n",
      "2025-03-28 16:13:01.142670: I external/local_xla/xla/tsl/cuda/cudart_stub.cc:32] Could not find cuda drivers on your machine, GPU will not be used.\n",
      "2025-03-28 16:13:01.147547: E external/local_xla/xla/stream_executor/cuda/cuda_fft.cc:467] Unable to register cuFFT factory: Attempting to register factory for plugin cuFFT when one has already been registered\n",
      "WARNING: All log messages before absl::InitializeLog() is called are written to STDERR\n",
      "E0000 00:00:1743153181.155756  191849 cuda_dnn.cc:8579] Unable to register cuDNN factory: Attempting to register factory for plugin cuDNN when one has already been registered\n",
      "E0000 00:00:1743153181.158295  191849 cuda_blas.cc:1407] Unable to register cuBLAS factory: Attempting to register factory for plugin cuBLAS when one has already been registered\n",
      "W0000 00:00:1743153181.164924  191849 computation_placer.cc:177] computation placer already registered. Please check linkage and avoid linking the same target more than once.\n",
      "W0000 00:00:1743153181.164933  191849 computation_placer.cc:177] computation placer already registered. Please check linkage and avoid linking the same target more than once.\n",
      "W0000 00:00:1743153181.164933  191849 computation_placer.cc:177] computation placer already registered. Please check linkage and avoid linking the same target more than once.\n",
      "W0000 00:00:1743153181.164934  191849 computation_placer.cc:177] computation placer already registered. Please check linkage and avoid linking the same target more than once.\n",
      "2025-03-28 16:13:01.167079: I tensorflow/core/platform/cpu_feature_guard.cc:210] This TensorFlow binary is optimized to use available CPU instructions in performance-critical operations.\n",
      "To enable the following instructions: AVX2 AVX_VNNI FMA, in other operations, rebuild TensorFlow with the appropriate compiler flags.\n"
     ]
    }
   ],
   "source": [
    "import warnings\n",
    "warnings.filterwarnings(\"ignore\")\n",
    "\n",
    "from pathlib import Path\n",
    "import pandas as pd\n",
    "\n",
    "from eda import DataLoader\n",
    "from IPython.display import display\n",
    "\n",
    "project_root_path = Path.cwd().parent"
   ]
  },
  {
   "cell_type": "code",
   "execution_count": 2,
   "metadata": {},
   "outputs": [],
   "source": [
    "\n",
    "data_loader = DataLoader(project_root_path / \"kaggle/input/stanford-rna-3d-folding\")\n",
    "data_loader.load_data()\n",
    "all_data = data_loader.data"
   ]
  },
  {
   "cell_type": "code",
   "execution_count": 3,
   "metadata": {},
   "outputs": [
    {
     "name": "stdout",
     "output_type": "stream",
     "text": [
      "File name: sample_submission, shape: (2515, 18)\n",
      "File name: validation_labels, shape: (2515, 123)\n",
      "File name: train_labels, shape: (137095, 6)\n",
      "File name: validation_sequences, shape: (12, 5)\n",
      "File name: test_sequences, shape: (12, 5)\n",
      "File name: train_sequences, shape: (844, 5)\n"
     ]
    }
   ],
   "source": [
    "for key, df in all_data.items():\n",
    "    print(f\"File name: {key}, shape: {df.shape}\")"
   ]
  },
  {
   "cell_type": "markdown",
   "metadata": {},
   "source": [
    "## 1SCL_A - `target_id`\n",
    "\n",
    "- from fasta file\n",
    "```txt\n",
    ">query\n",
    "GGGUGCUCAGUACGAGAGGAACCGCACCC\n",
    ">430D_A_1_55_f/1-29\n",
    "GGGUGCUCAGUACGAGAGGAACCGCAGCC\n",
    ">URS00021257C0_2904_2990_f/30-58\n",
    "```\n",
    "\n",
    "- sequence: `GGGUGCUCAGUACGAGAGGAACCGCACCC`\n",
    "- target_id: 1SCL_A\n"
   ]
  },
  {
   "cell_type": "markdown",
   "metadata": {},
   "source": [
    "## train\n",
    "\n"
   ]
  },
  {
   "cell_type": "markdown",
   "metadata": {},
   "source": [
    "- train_sequences.csv: \n",
    "  - target_id: arbitrary identifier, formatted as `pdb_id_chain_id`\n",
    "    - 844 unique\n",
    "    - `pdb_id`: id of the entry in the Protein Data Bank\n",
    "    - `chain_id`: chain id of the monomer in the pdb file\n",
    "  - sequence: RNA sequence\n",
    "    - 784 unique\n",
    "    - some sequences (45) are present multiple times with different `target_id`. how different targets can have the same sequence?\n",
    "  - 5 has null `all_sequences` "
   ]
  },
  {
   "cell_type": "markdown",
   "metadata": {},
   "source": [
    "### train_sequences"
   ]
  },
  {
   "cell_type": "code",
   "execution_count": 4,
   "metadata": {},
   "outputs": [
    {
     "name": "stdout",
     "output_type": "stream",
     "text": [
      "=== train_sequences.head() ===\n"
     ]
    },
    {
     "data": {
      "text/html": [
       "<div>\n",
       "<style scoped>\n",
       "    .dataframe tbody tr th:only-of-type {\n",
       "        vertical-align: middle;\n",
       "    }\n",
       "\n",
       "    .dataframe tbody tr th {\n",
       "        vertical-align: top;\n",
       "    }\n",
       "\n",
       "    .dataframe thead th {\n",
       "        text-align: right;\n",
       "    }\n",
       "</style>\n",
       "<table border=\"1\" class=\"dataframe\">\n",
       "  <thead>\n",
       "    <tr style=\"text-align: right;\">\n",
       "      <th></th>\n",
       "      <th>target_id</th>\n",
       "      <th>sequence</th>\n",
       "      <th>temporal_cutoff</th>\n",
       "      <th>description</th>\n",
       "      <th>all_sequences</th>\n",
       "    </tr>\n",
       "  </thead>\n",
       "  <tbody>\n",
       "    <tr>\n",
       "      <th>0</th>\n",
       "      <td>1SCL_A</td>\n",
       "      <td>GGGUGCUCAGUACGAGAGGAACCGCACCC</td>\n",
       "      <td>1995-01-26</td>\n",
       "      <td>THE SARCIN-RICIN LOOP, A MODULAR RNA</td>\n",
       "      <td>&gt;1SCL_1|Chain A|RNA SARCIN-RICIN LOOP|Rattus n...</td>\n",
       "    </tr>\n",
       "    <tr>\n",
       "      <th>1</th>\n",
       "      <td>1RNK_A</td>\n",
       "      <td>GGCGCAGUGGGCUAGCGCCACUCAAAAGGCCCAU</td>\n",
       "      <td>1995-02-27</td>\n",
       "      <td>THE STRUCTURE OF AN RNA PSEUDOKNOT THAT CAUSES...</td>\n",
       "      <td>&gt;1RNK_1|Chain A|RNA PSEUDOKNOT|null\\nGGCGCAGUG...</td>\n",
       "    </tr>\n",
       "    <tr>\n",
       "      <th>2</th>\n",
       "      <td>1RHT_A</td>\n",
       "      <td>GGGACUGACGAUCACGCAGUCUAU</td>\n",
       "      <td>1995-06-03</td>\n",
       "      <td>24-MER RNA HAIRPIN COAT PROTEIN BINDING SITE F...</td>\n",
       "      <td>&gt;1RHT_1|Chain A|RNA (5'-R(P*GP*GP*GP*AP*CP*UP*...</td>\n",
       "    </tr>\n",
       "    <tr>\n",
       "      <th>3</th>\n",
       "      <td>1HLX_A</td>\n",
       "      <td>GGGAUAACUUCGGUUGUCCC</td>\n",
       "      <td>1995-09-15</td>\n",
       "      <td>P1 HELIX NUCLEIC ACIDS (DNA/RNA) RIBONUCLEIC ACID</td>\n",
       "      <td>&gt;1HLX_1|Chain A|RNA (5'-R(*GP*GP*GP*AP*UP*AP*A...</td>\n",
       "    </tr>\n",
       "    <tr>\n",
       "      <th>4</th>\n",
       "      <td>1HMH_E</td>\n",
       "      <td>GGCGACCCUGAUGAGGCCGAAAGGCCGAAACCGU</td>\n",
       "      <td>1995-12-07</td>\n",
       "      <td>THREE-DIMENSIONAL STRUCTURE OF A HAMMERHEAD RI...</td>\n",
       "      <td>&gt;1HMH_1|Chains A, C, E|HAMMERHEAD RIBOZYME-RNA...</td>\n",
       "    </tr>\n",
       "  </tbody>\n",
       "</table>\n",
       "</div>"
      ],
      "text/plain": [
       "  target_id                            sequence temporal_cutoff  \\\n",
       "0    1SCL_A       GGGUGCUCAGUACGAGAGGAACCGCACCC      1995-01-26   \n",
       "1    1RNK_A  GGCGCAGUGGGCUAGCGCCACUCAAAAGGCCCAU      1995-02-27   \n",
       "2    1RHT_A            GGGACUGACGAUCACGCAGUCUAU      1995-06-03   \n",
       "3    1HLX_A                GGGAUAACUUCGGUUGUCCC      1995-09-15   \n",
       "4    1HMH_E  GGCGACCCUGAUGAGGCCGAAAGGCCGAAACCGU      1995-12-07   \n",
       "\n",
       "                                         description  \\\n",
       "0               THE SARCIN-RICIN LOOP, A MODULAR RNA   \n",
       "1  THE STRUCTURE OF AN RNA PSEUDOKNOT THAT CAUSES...   \n",
       "2  24-MER RNA HAIRPIN COAT PROTEIN BINDING SITE F...   \n",
       "3  P1 HELIX NUCLEIC ACIDS (DNA/RNA) RIBONUCLEIC ACID   \n",
       "4  THREE-DIMENSIONAL STRUCTURE OF A HAMMERHEAD RI...   \n",
       "\n",
       "                                       all_sequences  \n",
       "0  >1SCL_1|Chain A|RNA SARCIN-RICIN LOOP|Rattus n...  \n",
       "1  >1RNK_1|Chain A|RNA PSEUDOKNOT|null\\nGGCGCAGUG...  \n",
       "2  >1RHT_1|Chain A|RNA (5'-R(P*GP*GP*GP*AP*CP*UP*...  \n",
       "3  >1HLX_1|Chain A|RNA (5'-R(*GP*GP*GP*AP*UP*AP*A...  \n",
       "4  >1HMH_1|Chains A, C, E|HAMMERHEAD RIBOZYME-RNA...  "
      ]
     },
     "metadata": {},
     "output_type": "display_data"
    },
    {
     "name": "stdout",
     "output_type": "stream",
     "text": [
      "=== train_sequences.describe() ===\n"
     ]
    },
    {
     "data": {
      "text/html": [
       "<div>\n",
       "<style scoped>\n",
       "    .dataframe tbody tr th:only-of-type {\n",
       "        vertical-align: middle;\n",
       "    }\n",
       "\n",
       "    .dataframe tbody tr th {\n",
       "        vertical-align: top;\n",
       "    }\n",
       "\n",
       "    .dataframe thead th {\n",
       "        text-align: right;\n",
       "    }\n",
       "</style>\n",
       "<table border=\"1\" class=\"dataframe\">\n",
       "  <thead>\n",
       "    <tr style=\"text-align: right;\">\n",
       "      <th></th>\n",
       "      <th>target_id</th>\n",
       "      <th>sequence</th>\n",
       "      <th>temporal_cutoff</th>\n",
       "      <th>description</th>\n",
       "      <th>all_sequences</th>\n",
       "    </tr>\n",
       "  </thead>\n",
       "  <tbody>\n",
       "    <tr>\n",
       "      <th>count</th>\n",
       "      <td>844</td>\n",
       "      <td>844</td>\n",
       "      <td>844</td>\n",
       "      <td>844</td>\n",
       "      <td>839</td>\n",
       "    </tr>\n",
       "    <tr>\n",
       "      <th>unique</th>\n",
       "      <td>844</td>\n",
       "      <td>784</td>\n",
       "      <td>476</td>\n",
       "      <td>716</td>\n",
       "      <td>732</td>\n",
       "    </tr>\n",
       "    <tr>\n",
       "      <th>top</th>\n",
       "      <td>1SCL_A</td>\n",
       "      <td>UUUUUAAUUUCUACUCUUGUAGAUGUGAUAAGUGGAAUGCCAUGUGGA</td>\n",
       "      <td>2014-07-09</td>\n",
       "      <td>Structure of a mammalian 80S ribosome obtained...</td>\n",
       "      <td>&gt;4V5Z_1|Chain A[auth AA]|18S Ribosomal RNA|Can...</td>\n",
       "    </tr>\n",
       "    <tr>\n",
       "      <th>freq</th>\n",
       "      <td>1</td>\n",
       "      <td>5</td>\n",
       "      <td>46</td>\n",
       "      <td>11</td>\n",
       "      <td>11</td>\n",
       "    </tr>\n",
       "  </tbody>\n",
       "</table>\n",
       "</div>"
      ],
      "text/plain": [
       "       target_id                                          sequence  \\\n",
       "count        844                                               844   \n",
       "unique       844                                               784   \n",
       "top       1SCL_A  UUUUUAAUUUCUACUCUUGUAGAUGUGAUAAGUGGAAUGCCAUGUGGA   \n",
       "freq           1                                                 5   \n",
       "\n",
       "       temporal_cutoff                                        description  \\\n",
       "count              844                                                844   \n",
       "unique             476                                                716   \n",
       "top         2014-07-09  Structure of a mammalian 80S ribosome obtained...   \n",
       "freq                46                                                 11   \n",
       "\n",
       "                                            all_sequences  \n",
       "count                                                 839  \n",
       "unique                                                732  \n",
       "top     >4V5Z_1|Chain A[auth AA]|18S Ribosomal RNA|Can...  \n",
       "freq                                                   11  "
      ]
     },
     "metadata": {},
     "output_type": "display_data"
    },
    {
     "name": "stdout",
     "output_type": "stream",
     "text": [
      "=== train_sequences.isna().sum() ===\n"
     ]
    },
    {
     "data": {
      "text/plain": [
       "target_id          0\n",
       "sequence           0\n",
       "temporal_cutoff    0\n",
       "description        0\n",
       "all_sequences      5\n",
       "dtype: int64"
      ]
     },
     "metadata": {},
     "output_type": "display_data"
    }
   ],
   "source": [
    "df_s = all_data['train_sequences']\n",
    "print(\"=== train_sequences.head() ===\")\n",
    "display(df_s.head())\n",
    "\n",
    "print(\"=== train_sequences.describe() ===\")\n",
    "display(df_s.describe())\n",
    "\n",
    "print(\"=== train_sequences.isna().sum() ===\")\n",
    "display(df_s.isna().sum())"
   ]
  },
  {
   "cell_type": "markdown",
   "metadata": {},
   "source": [
    "#### sequences with multiple occurrences"
   ]
  },
  {
   "cell_type": "code",
   "execution_count": 5,
   "metadata": {},
   "outputs": [
    {
     "name": "stdout",
     "output_type": "stream",
     "text": [
      "45\n"
     ]
    },
    {
     "data": {
      "text/html": [
       "<div>\n",
       "<style scoped>\n",
       "    .dataframe tbody tr th:only-of-type {\n",
       "        vertical-align: middle;\n",
       "    }\n",
       "\n",
       "    .dataframe tbody tr th {\n",
       "        vertical-align: top;\n",
       "    }\n",
       "\n",
       "    .dataframe thead th {\n",
       "        text-align: right;\n",
       "    }\n",
       "</style>\n",
       "<table border=\"1\" class=\"dataframe\">\n",
       "  <thead>\n",
       "    <tr style=\"text-align: right;\">\n",
       "      <th></th>\n",
       "      <th>target_id</th>\n",
       "      <th>sequence</th>\n",
       "      <th>temporal_cutoff</th>\n",
       "      <th>description</th>\n",
       "      <th>all_sequences</th>\n",
       "    </tr>\n",
       "  </thead>\n",
       "  <tbody>\n",
       "    <tr>\n",
       "      <th>17</th>\n",
       "      <td>1ZDI_S</td>\n",
       "      <td>ACAUGAGGAUUACCCAUGU</td>\n",
       "      <td>1997-04-21</td>\n",
       "      <td>RNA BACTERIOPHAGE MS2 COAT PROTEIN/RNA COMPLEX</td>\n",
       "      <td>&gt;1ZDI_1|Chains A[auth R], B[auth S]|RNA (5'-R(...</td>\n",
       "    </tr>\n",
       "    <tr>\n",
       "      <th>200</th>\n",
       "      <td>2BQ5_S</td>\n",
       "      <td>ACAUGAGGAUUACCCAUGU</td>\n",
       "      <td>2006-03-22</td>\n",
       "      <td>MS2 (N87AE89K mutant) - RNA hairpin complex</td>\n",
       "      <td>&gt;2BQ5_1|Chains A, B, C|COAT PROTEIN|BACTERIOPH...</td>\n",
       "    </tr>\n",
       "    <tr>\n",
       "      <th>202</th>\n",
       "      <td>2BQ5_R</td>\n",
       "      <td>ACAUGAGGAUUACCCAUGU</td>\n",
       "      <td>2006-03-22</td>\n",
       "      <td>MS2 (N87AE89K mutant) - RNA hairpin complex</td>\n",
       "      <td>&gt;2BQ5_1|Chains A, B, C|COAT PROTEIN|BACTERIOPH...</td>\n",
       "    </tr>\n",
       "    <tr>\n",
       "      <th>205</th>\n",
       "      <td>2B2E_R</td>\n",
       "      <td>ACAUGAGGAUUACCCAUGU</td>\n",
       "      <td>2006-05-09</td>\n",
       "      <td>RNA stemloop from bacteriophage MS2 complexed ...</td>\n",
       "      <td>&gt;2B2E_1|Chains A[auth R], B[auth S]|5'-R(*AP*C...</td>\n",
       "    </tr>\n",
       "    <tr>\n",
       "      <th>206</th>\n",
       "      <td>2B2E_S</td>\n",
       "      <td>ACAUGAGGAUUACCCAUGU</td>\n",
       "      <td>2006-05-09</td>\n",
       "      <td>RNA stemloop from bacteriophage MS2 complexed ...</td>\n",
       "      <td>&gt;2B2E_1|Chains A[auth R], B[auth S]|5'-R(*AP*C...</td>\n",
       "    </tr>\n",
       "  </tbody>\n",
       "</table>\n",
       "</div>"
      ],
      "text/plain": [
       "    target_id             sequence temporal_cutoff  \\\n",
       "17     1ZDI_S  ACAUGAGGAUUACCCAUGU      1997-04-21   \n",
       "200    2BQ5_S  ACAUGAGGAUUACCCAUGU      2006-03-22   \n",
       "202    2BQ5_R  ACAUGAGGAUUACCCAUGU      2006-03-22   \n",
       "205    2B2E_R  ACAUGAGGAUUACCCAUGU      2006-05-09   \n",
       "206    2B2E_S  ACAUGAGGAUUACCCAUGU      2006-05-09   \n",
       "\n",
       "                                           description  \\\n",
       "17      RNA BACTERIOPHAGE MS2 COAT PROTEIN/RNA COMPLEX   \n",
       "200        MS2 (N87AE89K mutant) - RNA hairpin complex   \n",
       "202        MS2 (N87AE89K mutant) - RNA hairpin complex   \n",
       "205  RNA stemloop from bacteriophage MS2 complexed ...   \n",
       "206  RNA stemloop from bacteriophage MS2 complexed ...   \n",
       "\n",
       "                                         all_sequences  \n",
       "17   >1ZDI_1|Chains A[auth R], B[auth S]|RNA (5'-R(...  \n",
       "200  >2BQ5_1|Chains A, B, C|COAT PROTEIN|BACTERIOPH...  \n",
       "202  >2BQ5_1|Chains A, B, C|COAT PROTEIN|BACTERIOPH...  \n",
       "205  >2B2E_1|Chains A[auth R], B[auth S]|5'-R(*AP*C...  \n",
       "206  >2B2E_1|Chains A[auth R], B[auth S]|5'-R(*AP*C...  "
      ]
     },
     "execution_count": 5,
     "metadata": {},
     "output_type": "execute_result"
    }
   ],
   "source": [
    "sequences_with_multiple_occurrences = df_s[df_s.groupby('sequence')['sequence'].transform('count') > 1]['sequence'].unique()\n",
    "print(len(sequences_with_multiple_occurrences))\n",
    "df_s[df_s['sequence'] == sequences_with_multiple_occurrences[0]]"
   ]
  },
  {
   "cell_type": "markdown",
   "metadata": {},
   "source": [
    "#### sequence lengths"
   ]
  },
  {
   "cell_type": "code",
   "execution_count": 28,
   "metadata": {},
   "outputs": [
    {
     "name": "stdout",
     "output_type": "stream",
     "text": [
      "=== sequence_lengths.describe() ===\n"
     ]
    },
    {
     "data": {
      "text/plain": [
       "count     844.000000\n",
       "mean      162.434834\n",
       "std       515.031957\n",
       "min         3.000000\n",
       "25%        22.000000\n",
       "50%        39.500000\n",
       "75%        86.000000\n",
       "max      4298.000000\n",
       "Name: sequence, dtype: float64"
      ]
     },
     "metadata": {},
     "output_type": "display_data"
    },
    {
     "data": {
      "application/vnd.plotly.v1+json": {
       "config": {
        "plotlyServerURL": "https://plot.ly"
       },
       "data": [
        {
         "bingroup": "x",
         "hovertemplate": "Sequence Length=%{x}<br>count=%{y}<extra></extra>",
         "legendgroup": "",
         "marker": {
          "color": "#636efa",
          "pattern": {
           "shape": ""
          }
         },
         "name": "",
         "nbinsx": 50,
         "orientation": "v",
         "showlegend": false,
         "type": "histogram",
         "x": {
          "bdata": "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",
          "dtype": "i2"
         },
         "xaxis": "x",
         "yaxis": "y"
        }
       ],
       "layout": {
        "barmode": "relative",
        "legend": {
         "tracegroupgap": 0
        },
        "template": {
         "data": {
          "bar": [
           {
            "error_x": {
             "color": "#2a3f5f"
            },
            "error_y": {
             "color": "#2a3f5f"
            },
            "marker": {
             "line": {
              "color": "#E5ECF6",
              "width": 0.5
             },
             "pattern": {
              "fillmode": "overlay",
              "size": 10,
              "solidity": 0.2
             }
            },
            "type": "bar"
           }
          ],
          "barpolar": [
           {
            "marker": {
             "line": {
              "color": "#E5ECF6",
              "width": 0.5
             },
             "pattern": {
              "fillmode": "overlay",
              "size": 10,
              "solidity": 0.2
             }
            },
            "type": "barpolar"
           }
          ],
          "carpet": [
           {
            "aaxis": {
             "endlinecolor": "#2a3f5f",
             "gridcolor": "white",
             "linecolor": "white",
             "minorgridcolor": "white",
             "startlinecolor": "#2a3f5f"
            },
            "baxis": {
             "endlinecolor": "#2a3f5f",
             "gridcolor": "white",
             "linecolor": "white",
             "minorgridcolor": "white",
             "startlinecolor": "#2a3f5f"
            },
            "type": "carpet"
           }
          ],
          "choropleth": [
           {
            "colorbar": {
             "outlinewidth": 0,
             "ticks": ""
            },
            "type": "choropleth"
           }
          ],
          "contour": [
           {
            "colorbar": {
             "outlinewidth": 0,
             "ticks": ""
            },
            "colorscale": [
             [
              0,
              "#0d0887"
             ],
             [
              0.1111111111111111,
              "#46039f"
             ],
             [
              0.2222222222222222,
              "#7201a8"
             ],
             [
              0.3333333333333333,
              "#9c179e"
             ],
             [
              0.4444444444444444,
              "#bd3786"
             ],
             [
              0.5555555555555556,
              "#d8576b"
             ],
             [
              0.6666666666666666,
              "#ed7953"
             ],
             [
              0.7777777777777778,
              "#fb9f3a"
             ],
             [
              0.8888888888888888,
              "#fdca26"
             ],
             [
              1,
              "#f0f921"
             ]
            ],
            "type": "contour"
           }
          ],
          "contourcarpet": [
           {
            "colorbar": {
             "outlinewidth": 0,
             "ticks": ""
            },
            "type": "contourcarpet"
           }
          ],
          "heatmap": [
           {
            "colorbar": {
             "outlinewidth": 0,
             "ticks": ""
            },
            "colorscale": [
             [
              0,
              "#0d0887"
             ],
             [
              0.1111111111111111,
              "#46039f"
             ],
             [
              0.2222222222222222,
              "#7201a8"
             ],
             [
              0.3333333333333333,
              "#9c179e"
             ],
             [
              0.4444444444444444,
              "#bd3786"
             ],
             [
              0.5555555555555556,
              "#d8576b"
             ],
             [
              0.6666666666666666,
              "#ed7953"
             ],
             [
              0.7777777777777778,
              "#fb9f3a"
             ],
             [
              0.8888888888888888,
              "#fdca26"
             ],
             [
              1,
              "#f0f921"
             ]
            ],
            "type": "heatmap"
           }
          ],
          "histogram": [
           {
            "marker": {
             "pattern": {
              "fillmode": "overlay",
              "size": 10,
              "solidity": 0.2
             }
            },
            "type": "histogram"
           }
          ],
          "histogram2d": [
           {
            "colorbar": {
             "outlinewidth": 0,
             "ticks": ""
            },
            "colorscale": [
             [
              0,
              "#0d0887"
             ],
             [
              0.1111111111111111,
              "#46039f"
             ],
             [
              0.2222222222222222,
              "#7201a8"
             ],
             [
              0.3333333333333333,
              "#9c179e"
             ],
             [
              0.4444444444444444,
              "#bd3786"
             ],
             [
              0.5555555555555556,
              "#d8576b"
             ],
             [
              0.6666666666666666,
              "#ed7953"
             ],
             [
              0.7777777777777778,
              "#fb9f3a"
             ],
             [
              0.8888888888888888,
              "#fdca26"
             ],
             [
              1,
              "#f0f921"
             ]
            ],
            "type": "histogram2d"
           }
          ],
          "histogram2dcontour": [
           {
            "colorbar": {
             "outlinewidth": 0,
             "ticks": ""
            },
            "colorscale": [
             [
              0,
              "#0d0887"
             ],
             [
              0.1111111111111111,
              "#46039f"
             ],
             [
              0.2222222222222222,
              "#7201a8"
             ],
             [
              0.3333333333333333,
              "#9c179e"
             ],
             [
              0.4444444444444444,
              "#bd3786"
             ],
             [
              0.5555555555555556,
              "#d8576b"
             ],
             [
              0.6666666666666666,
              "#ed7953"
             ],
             [
              0.7777777777777778,
              "#fb9f3a"
             ],
             [
              0.8888888888888888,
              "#fdca26"
             ],
             [
              1,
              "#f0f921"
             ]
            ],
            "type": "histogram2dcontour"
           }
          ],
          "mesh3d": [
           {
            "colorbar": {
             "outlinewidth": 0,
             "ticks": ""
            },
            "type": "mesh3d"
           }
          ],
          "parcoords": [
           {
            "line": {
             "colorbar": {
              "outlinewidth": 0,
              "ticks": ""
             }
            },
            "type": "parcoords"
           }
          ],
          "pie": [
           {
            "automargin": true,
            "type": "pie"
           }
          ],
          "scatter": [
           {
            "fillpattern": {
             "fillmode": "overlay",
             "size": 10,
             "solidity": 0.2
            },
            "type": "scatter"
           }
          ],
          "scatter3d": [
           {
            "line": {
             "colorbar": {
              "outlinewidth": 0,
              "ticks": ""
             }
            },
            "marker": {
             "colorbar": {
              "outlinewidth": 0,
              "ticks": ""
             }
            },
            "type": "scatter3d"
           }
          ],
          "scattercarpet": [
           {
            "marker": {
             "colorbar": {
              "outlinewidth": 0,
              "ticks": ""
             }
            },
            "type": "scattercarpet"
           }
          ],
          "scattergeo": [
           {
            "marker": {
             "colorbar": {
              "outlinewidth": 0,
              "ticks": ""
             }
            },
            "type": "scattergeo"
           }
          ],
          "scattergl": [
           {
            "marker": {
             "colorbar": {
              "outlinewidth": 0,
              "ticks": ""
             }
            },
            "type": "scattergl"
           }
          ],
          "scattermap": [
           {
            "marker": {
             "colorbar": {
              "outlinewidth": 0,
              "ticks": ""
             }
            },
            "type": "scattermap"
           }
          ],
          "scattermapbox": [
           {
            "marker": {
             "colorbar": {
              "outlinewidth": 0,
              "ticks": ""
             }
            },
            "type": "scattermapbox"
           }
          ],
          "scatterpolar": [
           {
            "marker": {
             "colorbar": {
              "outlinewidth": 0,
              "ticks": ""
             }
            },
            "type": "scatterpolar"
           }
          ],
          "scatterpolargl": [
           {
            "marker": {
             "colorbar": {
              "outlinewidth": 0,
              "ticks": ""
             }
            },
            "type": "scatterpolargl"
           }
          ],
          "scatterternary": [
           {
            "marker": {
             "colorbar": {
              "outlinewidth": 0,
              "ticks": ""
             }
            },
            "type": "scatterternary"
           }
          ],
          "surface": [
           {
            "colorbar": {
             "outlinewidth": 0,
             "ticks": ""
            },
            "colorscale": [
             [
              0,
              "#0d0887"
             ],
             [
              0.1111111111111111,
              "#46039f"
             ],
             [
              0.2222222222222222,
              "#7201a8"
             ],
             [
              0.3333333333333333,
              "#9c179e"
             ],
             [
              0.4444444444444444,
              "#bd3786"
             ],
             [
              0.5555555555555556,
              "#d8576b"
             ],
             [
              0.6666666666666666,
              "#ed7953"
             ],
             [
              0.7777777777777778,
              "#fb9f3a"
             ],
             [
              0.8888888888888888,
              "#fdca26"
             ],
             [
              1,
              "#f0f921"
             ]
            ],
            "type": "surface"
           }
          ],
          "table": [
           {
            "cells": {
             "fill": {
              "color": "#EBF0F8"
             },
             "line": {
              "color": "white"
             }
            },
            "header": {
             "fill": {
              "color": "#C8D4E3"
             },
             "line": {
              "color": "white"
             }
            },
            "type": "table"
           }
          ]
         },
         "layout": {
          "annotationdefaults": {
           "arrowcolor": "#2a3f5f",
           "arrowhead": 0,
           "arrowwidth": 1
          },
          "autotypenumbers": "strict",
          "coloraxis": {
           "colorbar": {
            "outlinewidth": 0,
            "ticks": ""
           }
          },
          "colorscale": {
           "diverging": [
            [
             0,
             "#8e0152"
            ],
            [
             0.1,
             "#c51b7d"
            ],
            [
             0.2,
             "#de77ae"
            ],
            [
             0.3,
             "#f1b6da"
            ],
            [
             0.4,
             "#fde0ef"
            ],
            [
             0.5,
             "#f7f7f7"
            ],
            [
             0.6,
             "#e6f5d0"
            ],
            [
             0.7,
             "#b8e186"
            ],
            [
             0.8,
             "#7fbc41"
            ],
            [
             0.9,
             "#4d9221"
            ],
            [
             1,
             "#276419"
            ]
           ],
           "sequential": [
            [
             0,
             "#0d0887"
            ],
            [
             0.1111111111111111,
             "#46039f"
            ],
            [
             0.2222222222222222,
             "#7201a8"
            ],
            [
             0.3333333333333333,
             "#9c179e"
            ],
            [
             0.4444444444444444,
             "#bd3786"
            ],
            [
             0.5555555555555556,
             "#d8576b"
            ],
            [
             0.6666666666666666,
             "#ed7953"
            ],
            [
             0.7777777777777778,
             "#fb9f3a"
            ],
            [
             0.8888888888888888,
             "#fdca26"
            ],
            [
             1,
             "#f0f921"
            ]
           ],
           "sequentialminus": [
            [
             0,
             "#0d0887"
            ],
            [
             0.1111111111111111,
             "#46039f"
            ],
            [
             0.2222222222222222,
             "#7201a8"
            ],
            [
             0.3333333333333333,
             "#9c179e"
            ],
            [
             0.4444444444444444,
             "#bd3786"
            ],
            [
             0.5555555555555556,
             "#d8576b"
            ],
            [
             0.6666666666666666,
             "#ed7953"
            ],
            [
             0.7777777777777778,
             "#fb9f3a"
            ],
            [
             0.8888888888888888,
             "#fdca26"
            ],
            [
             1,
             "#f0f921"
            ]
           ]
          },
          "colorway": [
           "#636efa",
           "#EF553B",
           "#00cc96",
           "#ab63fa",
           "#FFA15A",
           "#19d3f3",
           "#FF6692",
           "#B6E880",
           "#FF97FF",
           "#FECB52"
          ],
          "font": {
           "color": "#2a3f5f"
          },
          "geo": {
           "bgcolor": "white",
           "lakecolor": "white",
           "landcolor": "#E5ECF6",
           "showlakes": true,
           "showland": true,
           "subunitcolor": "white"
          },
          "hoverlabel": {
           "align": "left"
          },
          "hovermode": "closest",
          "mapbox": {
           "style": "light"
          },
          "paper_bgcolor": "white",
          "plot_bgcolor": "#E5ECF6",
          "polar": {
           "angularaxis": {
            "gridcolor": "white",
            "linecolor": "white",
            "ticks": ""
           },
           "bgcolor": "#E5ECF6",
           "radialaxis": {
            "gridcolor": "white",
            "linecolor": "white",
            "ticks": ""
           }
          },
          "scene": {
           "xaxis": {
            "backgroundcolor": "#E5ECF6",
            "gridcolor": "white",
            "gridwidth": 2,
            "linecolor": "white",
            "showbackground": true,
            "ticks": "",
            "zerolinecolor": "white"
           },
           "yaxis": {
            "backgroundcolor": "#E5ECF6",
            "gridcolor": "white",
            "gridwidth": 2,
            "linecolor": "white",
            "showbackground": true,
            "ticks": "",
            "zerolinecolor": "white"
           },
           "zaxis": {
            "backgroundcolor": "#E5ECF6",
            "gridcolor": "white",
            "gridwidth": 2,
            "linecolor": "white",
            "showbackground": true,
            "ticks": "",
            "zerolinecolor": "white"
           }
          },
          "shapedefaults": {
           "line": {
            "color": "#2a3f5f"
           }
          },
          "ternary": {
           "aaxis": {
            "gridcolor": "white",
            "linecolor": "white",
            "ticks": ""
           },
           "baxis": {
            "gridcolor": "white",
            "linecolor": "white",
            "ticks": ""
           },
           "bgcolor": "#E5ECF6",
           "caxis": {
            "gridcolor": "white",
            "linecolor": "white",
            "ticks": ""
           }
          },
          "title": {
           "x": 0.05
          },
          "xaxis": {
           "automargin": true,
           "gridcolor": "white",
           "linecolor": "white",
           "ticks": "",
           "title": {
            "standoff": 15
           },
           "zerolinecolor": "white",
           "zerolinewidth": 2
          },
          "yaxis": {
           "automargin": true,
           "gridcolor": "white",
           "linecolor": "white",
           "ticks": "",
           "title": {
            "standoff": 15
           },
           "zerolinecolor": "white",
           "zerolinewidth": 2
          }
         }
        },
        "title": {
         "text": "Distribution of Sequence Lengths, train_sequences"
        },
        "xaxis": {
         "anchor": "y",
         "domain": [
          0,
          1
         ],
         "title": {
          "text": "Sequence Length"
         }
        },
        "yaxis": {
         "anchor": "x",
         "domain": [
          0,
          1
         ],
         "title": {
          "text": "count"
         }
        }
       }
      }
     },
     "metadata": {},
     "output_type": "display_data"
    }
   ],
   "source": [
    "import plotly.express as px\n",
    "sequence_lengths = df_s['sequence'].str.len()\n",
    "print(\"=== sequence_lengths.describe() ===\")\n",
    "display(sequence_lengths.describe())\n",
    "px.histogram(\n",
    "    x=sequence_lengths,\n",
    "    nbins=50,  # Adjust number of bins as needed\n",
    "    title='Distribution of Sequence Lengths, train_sequences',\n",
    "    labels={'x': 'Sequence Length', 'y': 'Count'},\n",
    ")"
   ]
  },
  {
   "cell_type": "markdown",
   "metadata": {},
   "source": [
    "#### null `all_sequences`"
   ]
  },
  {
   "cell_type": "code",
   "execution_count": 30,
   "metadata": {},
   "outputs": [
    {
     "data": {
      "text/html": [
       "<div>\n",
       "<style scoped>\n",
       "    .dataframe tbody tr th:only-of-type {\n",
       "        vertical-align: middle;\n",
       "    }\n",
       "\n",
       "    .dataframe tbody tr th {\n",
       "        vertical-align: top;\n",
       "    }\n",
       "\n",
       "    .dataframe thead th {\n",
       "        text-align: right;\n",
       "    }\n",
       "</style>\n",
       "<table border=\"1\" class=\"dataframe\">\n",
       "  <thead>\n",
       "    <tr style=\"text-align: right;\">\n",
       "      <th></th>\n",
       "      <th>target_id</th>\n",
       "      <th>sequence</th>\n",
       "      <th>temporal_cutoff</th>\n",
       "      <th>description</th>\n",
       "      <th>all_sequences</th>\n",
       "    </tr>\n",
       "  </thead>\n",
       "  <tbody>\n",
       "    <tr>\n",
       "      <th>286</th>\n",
       "      <td>2ZJQ_Y</td>\n",
       "      <td>CACCCCCGUGCCCAUAGCACUGUGGAACCACCCCACCCCAUGCCGA...</td>\n",
       "      <td>2008-06-17</td>\n",
       "      <td>Interaction of L7 with L11 induced by Microcco...</td>\n",
       "      <td>NaN</td>\n",
       "    </tr>\n",
       "    <tr>\n",
       "      <th>287</th>\n",
       "      <td>2ZJQ_X</td>\n",
       "      <td>GGUCAAGAUAGUAAGGGUCCACGGUGGAUGCCCUGGCGCUGGAGCC...</td>\n",
       "      <td>2008-06-17</td>\n",
       "      <td>Interaction of L7 with L11 induced by Microcco...</td>\n",
       "      <td>NaN</td>\n",
       "    </tr>\n",
       "    <tr>\n",
       "      <th>435</th>\n",
       "      <td>4V65_A1</td>\n",
       "      <td>UGAAGAGUUUGAUCAUGGCUCAGAUUGAACGCUGGCGGCAGGCCUA...</td>\n",
       "      <td>2014-07-09</td>\n",
       "      <td>Structure of the E. coli ribosome in the Pre-a...</td>\n",
       "      <td>NaN</td>\n",
       "    </tr>\n",
       "    <tr>\n",
       "      <th>445</th>\n",
       "      <td>4V65_BB</td>\n",
       "      <td>GGUUAAGCGACUAAGCGUACACGGUGGAUGCCCUGGCAGUCAGAGG...</td>\n",
       "      <td>2014-07-09</td>\n",
       "      <td>Structure of the E. coli ribosome in the Pre-a...</td>\n",
       "      <td>NaN</td>\n",
       "    </tr>\n",
       "    <tr>\n",
       "      <th>458</th>\n",
       "      <td>4V5F_CA</td>\n",
       "      <td>UGGAGAGUUUGAUCCUGGCUCAGGGUGAACGCUGGCGGCGUGCCUA...</td>\n",
       "      <td>2014-07-09</td>\n",
       "      <td>The structure of the ribosome with elongation ...</td>\n",
       "      <td>NaN</td>\n",
       "    </tr>\n",
       "  </tbody>\n",
       "</table>\n",
       "</div>"
      ],
      "text/plain": [
       "    target_id                                           sequence  \\\n",
       "286    2ZJQ_Y  CACCCCCGUGCCCAUAGCACUGUGGAACCACCCCACCCCAUGCCGA...   \n",
       "287    2ZJQ_X  GGUCAAGAUAGUAAGGGUCCACGGUGGAUGCCCUGGCGCUGGAGCC...   \n",
       "435   4V65_A1  UGAAGAGUUUGAUCAUGGCUCAGAUUGAACGCUGGCGGCAGGCCUA...   \n",
       "445   4V65_BB  GGUUAAGCGACUAAGCGUACACGGUGGAUGCCCUGGCAGUCAGAGG...   \n",
       "458   4V5F_CA  UGGAGAGUUUGAUCCUGGCUCAGGGUGAACGCUGGCGGCGUGCCUA...   \n",
       "\n",
       "    temporal_cutoff                                        description  \\\n",
       "286      2008-06-17  Interaction of L7 with L11 induced by Microcco...   \n",
       "287      2008-06-17  Interaction of L7 with L11 induced by Microcco...   \n",
       "435      2014-07-09  Structure of the E. coli ribosome in the Pre-a...   \n",
       "445      2014-07-09  Structure of the E. coli ribosome in the Pre-a...   \n",
       "458      2014-07-09  The structure of the ribosome with elongation ...   \n",
       "\n",
       "    all_sequences  \n",
       "286           NaN  \n",
       "287           NaN  \n",
       "435           NaN  \n",
       "445           NaN  \n",
       "458           NaN  "
      ]
     },
     "execution_count": 30,
     "metadata": {},
     "output_type": "execute_result"
    }
   ],
   "source": [
    "df_s[df_s['all_sequences'].isna()]"
   ]
  },
  {
   "cell_type": "markdown",
   "metadata": {},
   "source": [
    "### train_labels"
   ]
  },
  {
   "cell_type": "code",
   "execution_count": 5,
   "metadata": {},
   "outputs": [],
   "source": [
    "def remove_after_last_underscore(text):\n",
    "    if '_' not in text:\n",
    "        return text\n",
    "    return text.rsplit('_', 1)[0]"
   ]
  },
  {
   "cell_type": "code",
   "execution_count": 84,
   "metadata": {},
   "outputs": [
    {
     "name": "stdout",
     "output_type": "stream",
     "text": [
      "=== train_labels ===\n"
     ]
    },
    {
     "data": {
      "text/html": [
       "<div>\n",
       "<style scoped>\n",
       "    .dataframe tbody tr th:only-of-type {\n",
       "        vertical-align: middle;\n",
       "    }\n",
       "\n",
       "    .dataframe tbody tr th {\n",
       "        vertical-align: top;\n",
       "    }\n",
       "\n",
       "    .dataframe thead th {\n",
       "        text-align: right;\n",
       "    }\n",
       "</style>\n",
       "<table border=\"1\" class=\"dataframe\">\n",
       "  <thead>\n",
       "    <tr style=\"text-align: right;\">\n",
       "      <th></th>\n",
       "      <th>ID</th>\n",
       "      <th>resname</th>\n",
       "      <th>resid</th>\n",
       "      <th>x_1</th>\n",
       "      <th>y_1</th>\n",
       "      <th>z_1</th>\n",
       "      <th>target_id</th>\n",
       "    </tr>\n",
       "  </thead>\n",
       "  <tbody>\n",
       "    <tr>\n",
       "      <th>0</th>\n",
       "      <td>1SCL_A_1</td>\n",
       "      <td>G</td>\n",
       "      <td>1</td>\n",
       "      <td>13.760</td>\n",
       "      <td>-25.974001</td>\n",
       "      <td>0.102</td>\n",
       "      <td>1SCL_A</td>\n",
       "    </tr>\n",
       "    <tr>\n",
       "      <th>1</th>\n",
       "      <td>1SCL_A_2</td>\n",
       "      <td>G</td>\n",
       "      <td>2</td>\n",
       "      <td>9.310</td>\n",
       "      <td>-29.638000</td>\n",
       "      <td>2.669</td>\n",
       "      <td>1SCL_A</td>\n",
       "    </tr>\n",
       "    <tr>\n",
       "      <th>2</th>\n",
       "      <td>1SCL_A_3</td>\n",
       "      <td>G</td>\n",
       "      <td>3</td>\n",
       "      <td>5.529</td>\n",
       "      <td>-27.813000</td>\n",
       "      <td>5.878</td>\n",
       "      <td>1SCL_A</td>\n",
       "    </tr>\n",
       "  </tbody>\n",
       "</table>\n",
       "</div>"
      ],
      "text/plain": [
       "         ID resname  resid     x_1        y_1    z_1 target_id\n",
       "0  1SCL_A_1       G      1  13.760 -25.974001  0.102    1SCL_A\n",
       "1  1SCL_A_2       G      2   9.310 -29.638000  2.669    1SCL_A\n",
       "2  1SCL_A_3       G      3   5.529 -27.813000  5.878    1SCL_A"
      ]
     },
     "metadata": {},
     "output_type": "display_data"
    },
    {
     "name": "stdout",
     "output_type": "stream",
     "text": [
      "=== train_labels.describe(include='object') ===\n"
     ]
    },
    {
     "data": {
      "text/html": [
       "<div>\n",
       "<style scoped>\n",
       "    .dataframe tbody tr th:only-of-type {\n",
       "        vertical-align: middle;\n",
       "    }\n",
       "\n",
       "    .dataframe tbody tr th {\n",
       "        vertical-align: top;\n",
       "    }\n",
       "\n",
       "    .dataframe thead th {\n",
       "        text-align: right;\n",
       "    }\n",
       "</style>\n",
       "<table border=\"1\" class=\"dataframe\">\n",
       "  <thead>\n",
       "    <tr style=\"text-align: right;\">\n",
       "      <th></th>\n",
       "      <th>ID</th>\n",
       "      <th>resname</th>\n",
       "      <th>target_id</th>\n",
       "    </tr>\n",
       "  </thead>\n",
       "  <tbody>\n",
       "    <tr>\n",
       "      <th>count</th>\n",
       "      <td>137095</td>\n",
       "      <td>137095</td>\n",
       "      <td>137095</td>\n",
       "    </tr>\n",
       "    <tr>\n",
       "      <th>unique</th>\n",
       "      <td>137095</td>\n",
       "      <td>6</td>\n",
       "      <td>844</td>\n",
       "    </tr>\n",
       "    <tr>\n",
       "      <th>top</th>\n",
       "      <td>1SCL_A_1</td>\n",
       "      <td>G</td>\n",
       "      <td>4V6X_A5</td>\n",
       "    </tr>\n",
       "    <tr>\n",
       "      <th>freq</th>\n",
       "      <td>1</td>\n",
       "      <td>41450</td>\n",
       "      <td>4298</td>\n",
       "    </tr>\n",
       "  </tbody>\n",
       "</table>\n",
       "</div>"
      ],
      "text/plain": [
       "              ID resname target_id\n",
       "count     137095  137095    137095\n",
       "unique    137095       6       844\n",
       "top     1SCL_A_1       G   4V6X_A5\n",
       "freq           1   41450      4298"
      ]
     },
     "metadata": {},
     "output_type": "display_data"
    },
    {
     "name": "stdout",
     "output_type": "stream",
     "text": [
      "<class 'pandas.core.frame.DataFrame'>\n",
      "RangeIndex: 137095 entries, 0 to 137094\n",
      "Data columns (total 7 columns):\n",
      " #   Column     Non-Null Count   Dtype  \n",
      "---  ------     --------------   -----  \n",
      " 0   ID         137095 non-null  object \n",
      " 1   resname    137095 non-null  object \n",
      " 2   resid      137095 non-null  int64  \n",
      " 3   x_1        130950 non-null  float64\n",
      " 4   y_1        130950 non-null  float64\n",
      " 5   z_1        130950 non-null  float64\n",
      " 6   target_id  137095 non-null  object \n",
      "dtypes: float64(3), int64(1), object(3)\n",
      "memory usage: 7.3+ MB\n"
     ]
    },
    {
     "data": {
      "text/plain": [
       "None"
      ]
     },
     "metadata": {},
     "output_type": "display_data"
    },
    {
     "name": "stdout",
     "output_type": "stream",
     "text": [
      "=== train_labels.describe(include='number') ===\n"
     ]
    },
    {
     "data": {
      "text/html": [
       "<div>\n",
       "<style scoped>\n",
       "    .dataframe tbody tr th:only-of-type {\n",
       "        vertical-align: middle;\n",
       "    }\n",
       "\n",
       "    .dataframe tbody tr th {\n",
       "        vertical-align: top;\n",
       "    }\n",
       "\n",
       "    .dataframe thead th {\n",
       "        text-align: right;\n",
       "    }\n",
       "</style>\n",
       "<table border=\"1\" class=\"dataframe\">\n",
       "  <thead>\n",
       "    <tr style=\"text-align: right;\">\n",
       "      <th></th>\n",
       "      <th>resid</th>\n",
       "      <th>x_1</th>\n",
       "      <th>y_1</th>\n",
       "      <th>z_1</th>\n",
       "    </tr>\n",
       "  </thead>\n",
       "  <tbody>\n",
       "    <tr>\n",
       "      <th>count</th>\n",
       "      <td>137095.000000</td>\n",
       "      <td>130950.000000</td>\n",
       "      <td>130950.000000</td>\n",
       "      <td>130950.000000</td>\n",
       "    </tr>\n",
       "    <tr>\n",
       "      <th>mean</th>\n",
       "      <td>897.255633</td>\n",
       "      <td>80.447315</td>\n",
       "      <td>84.040727</td>\n",
       "      <td>98.611226</td>\n",
       "    </tr>\n",
       "    <tr>\n",
       "      <th>std</th>\n",
       "      <td>1014.321987</td>\n",
       "      <td>147.422319</td>\n",
       "      <td>114.928902</td>\n",
       "      <td>119.410665</td>\n",
       "    </tr>\n",
       "    <tr>\n",
       "      <th>min</th>\n",
       "      <td>1.000000</td>\n",
       "      <td>-821.085999</td>\n",
       "      <td>-449.414001</td>\n",
       "      <td>-333.403992</td>\n",
       "    </tr>\n",
       "    <tr>\n",
       "      <th>25%</th>\n",
       "      <td>61.000000</td>\n",
       "      <td>-1.115750</td>\n",
       "      <td>-4.890750</td>\n",
       "      <td>2.218500</td>\n",
       "    </tr>\n",
       "    <tr>\n",
       "      <th>50%</th>\n",
       "      <td>481.000000</td>\n",
       "      <td>62.651501</td>\n",
       "      <td>67.901501</td>\n",
       "      <td>72.938499</td>\n",
       "    </tr>\n",
       "    <tr>\n",
       "      <th>75%</th>\n",
       "      <td>1459.500000</td>\n",
       "      <td>178.809753</td>\n",
       "      <td>170.451996</td>\n",
       "      <td>184.531750</td>\n",
       "    </tr>\n",
       "    <tr>\n",
       "      <th>max</th>\n",
       "      <td>4298.000000</td>\n",
       "      <td>849.887024</td>\n",
       "      <td>889.507996</td>\n",
       "      <td>668.776978</td>\n",
       "    </tr>\n",
       "  </tbody>\n",
       "</table>\n",
       "</div>"
      ],
      "text/plain": [
       "               resid            x_1            y_1            z_1\n",
       "count  137095.000000  130950.000000  130950.000000  130950.000000\n",
       "mean      897.255633      80.447315      84.040727      98.611226\n",
       "std      1014.321987     147.422319     114.928902     119.410665\n",
       "min         1.000000    -821.085999    -449.414001    -333.403992\n",
       "25%        61.000000      -1.115750      -4.890750       2.218500\n",
       "50%       481.000000      62.651501      67.901501      72.938499\n",
       "75%      1459.500000     178.809753     170.451996     184.531750\n",
       "max      4298.000000     849.887024     889.507996     668.776978"
      ]
     },
     "metadata": {},
     "output_type": "display_data"
    }
   ],
   "source": [
    "df_l = all_data['train_labels']\n",
    "df_l['target_id'] = df_l['ID'].apply(remove_after_last_underscore)\n",
    "print(\"=== train_labels ===\")\n",
    "display(df_l.head(3))\n",
    "\n",
    "print(\"=== train_labels.describe(include='object') ===\")\n",
    "display(df_l.describe(include='object'))\n",
    "display(df_l.info())\n",
    "\n",
    "print(\"=== train_labels.describe(include='number') ===\")\n",
    "display(df_l.describe(include='number'))\n"
   ]
  },
  {
   "cell_type": "code",
   "execution_count": null,
   "metadata": {},
   "outputs": [],
   "source": []
  },
  {
   "cell_type": "markdown",
   "metadata": {},
   "source": [
    "## validation"
   ]
  },
  {
   "cell_type": "code",
   "execution_count": 33,
   "metadata": {},
   "outputs": [
    {
     "data": {
      "text/html": [
       "<div>\n",
       "<style scoped>\n",
       "    .dataframe tbody tr th:only-of-type {\n",
       "        vertical-align: middle;\n",
       "    }\n",
       "\n",
       "    .dataframe tbody tr th {\n",
       "        vertical-align: top;\n",
       "    }\n",
       "\n",
       "    .dataframe thead th {\n",
       "        text-align: right;\n",
       "    }\n",
       "</style>\n",
       "<table border=\"1\" class=\"dataframe\">\n",
       "  <thead>\n",
       "    <tr style=\"text-align: right;\">\n",
       "      <th></th>\n",
       "      <th>target_id</th>\n",
       "      <th>sequence</th>\n",
       "      <th>temporal_cutoff</th>\n",
       "      <th>description</th>\n",
       "      <th>all_sequences</th>\n",
       "    </tr>\n",
       "  </thead>\n",
       "  <tbody>\n",
       "    <tr>\n",
       "      <th>0</th>\n",
       "      <td>R1107</td>\n",
       "      <td>GGGGGCCACAGCAGAAGCGUUCACGUCGCAGCCCCUGUCAGCCAUU...</td>\n",
       "      <td>2022-05-28</td>\n",
       "      <td>CPEB3 ribozyme\\nHuman\\nhuman CPEB3 HDV-like ri...</td>\n",
       "      <td>&gt;7QR4_1|Chain A|U1 small nuclear ribonucleopro...</td>\n",
       "    </tr>\n",
       "    <tr>\n",
       "      <th>1</th>\n",
       "      <td>R1108</td>\n",
       "      <td>GGGGGCCACAGCAGAAGCGUUCACGUCGCGGCCCCUGUCAGCCAUU...</td>\n",
       "      <td>2022-05-27</td>\n",
       "      <td>CPEB3 ribozyme\\nChimpanzee\\nChimpanzee CPEB3 H...</td>\n",
       "      <td>&gt;7QR3_1|Chains A, B|U1 small nuclear ribonucle...</td>\n",
       "    </tr>\n",
       "    <tr>\n",
       "      <th>2</th>\n",
       "      <td>R1116</td>\n",
       "      <td>CGCCCGGAUAGCUCAGUCGGUAGAGCAGCGGCUAAAACAGCUCUGG...</td>\n",
       "      <td>2022-06-04</td>\n",
       "      <td>Cloverleaf RNA\\nPoliovirus\\nCrystal Structure ...</td>\n",
       "      <td>&gt;8S95_1|Chain A[auth C]|Lysine tRNA scaffold,P...</td>\n",
       "    </tr>\n",
       "    <tr>\n",
       "      <th>3</th>\n",
       "      <td>R1117v2</td>\n",
       "      <td>UUGGGUUCCCUCACCCCAAUCAUAAAAAGG</td>\n",
       "      <td>2022-06-03</td>\n",
       "      <td>PreQ1 class I type III riboswitch\\nK. pneumoni...</td>\n",
       "      <td>&gt;8FZA_1|Chains A, B|PreQ1 Riboswitch (30-MER)|...</td>\n",
       "    </tr>\n",
       "    <tr>\n",
       "      <th>4</th>\n",
       "      <td>R1126</td>\n",
       "      <td>GGAAUCUCGCCCGAUGUUCGCAUCGGGAUUUGCAGGUCCAUGGAUU...</td>\n",
       "      <td>2022-06-11</td>\n",
       "      <td>Traptamer\\nSynthetic\\nAdditional Information: ...</td>\n",
       "      <td>&gt;8TVZ_1|Chain A[auth C]|RNA (363-MER)|syntheti...</td>\n",
       "    </tr>\n",
       "    <tr>\n",
       "      <th>5</th>\n",
       "      <td>R1128</td>\n",
       "      <td>GGAAUAUCGUCAUGGUGAUUCGUCACCAUGAGGCUAGAUCUCAUAU...</td>\n",
       "      <td>2022-06-10</td>\n",
       "      <td>6WJ\\nSingle-stranded Paranemic Crossover RNA T...</td>\n",
       "      <td>&gt;8BTZ_1|Chain A|RNA Paranemic croosover triang...</td>\n",
       "    </tr>\n",
       "    <tr>\n",
       "      <th>6</th>\n",
       "      <td>R1136</td>\n",
       "      <td>GGAUACGUCUACGCUCAGUGACGGACUCUCUUCGGAGAGUCUGACA...</td>\n",
       "      <td>2022-06-18</td>\n",
       "      <td>Apta-FRET\\nAdditional Information:        Info...</td>\n",
       "      <td>&gt;7ZJ4_1|Chain A[auth E]|brocolli-pepper aptame...</td>\n",
       "    </tr>\n",
       "    <tr>\n",
       "      <th>7</th>\n",
       "      <td>R1138</td>\n",
       "      <td>GGGAGAGUACUAUUCAGAUGCAGACCGCAAGUUCAGAGCGGUUUGC...</td>\n",
       "      <td>2022-06-24</td>\n",
       "      <td>6HBC-Young\\nAdditional Information:        Thi...</td>\n",
       "      <td>&gt;7PTK_1|Chain A[auth B]|RNA|synthetic construc...</td>\n",
       "    </tr>\n",
       "    <tr>\n",
       "      <th>8</th>\n",
       "      <td>R1149</td>\n",
       "      <td>GGACACGAGUAACUCGUCUAUCUUCUGCAGGCUGCUUACGGUUUCG...</td>\n",
       "      <td>2022-07-02</td>\n",
       "      <td>SARS-CoV-2 SL5\\nAdditional Information:       ...</td>\n",
       "      <td>&gt;8UYS_1|Chain A|SARS-CoV-2 RNA SL5 domain.|Sev...</td>\n",
       "    </tr>\n",
       "    <tr>\n",
       "      <th>9</th>\n",
       "      <td>R1156</td>\n",
       "      <td>GGAGCAUCGUGUCUCAAGUGCUUCACGGUCACAAUAUACCGUUUCG...</td>\n",
       "      <td>2022-07-07</td>\n",
       "      <td>BtCoV-HKU5 SL5\\nBtCoV-HKU5 5 proximal stem-loo...</td>\n",
       "      <td>&gt;8UYE_1|Chain A|BtCoV-HKU5 5' proximal stem-lo...</td>\n",
       "    </tr>\n",
       "    <tr>\n",
       "      <th>10</th>\n",
       "      <td>R1189</td>\n",
       "      <td>GCGUACAGGGAACACGCAACCCCGAAGGAUCGGGGAAGGGACGUCG...</td>\n",
       "      <td>2022-08-11</td>\n",
       "      <td>A-6B\\nAdditional Information:        The T1189...</td>\n",
       "      <td>&gt;7YR7_1|Chains A[auth B], B[auth C], C[auth D]...</td>\n",
       "    </tr>\n",
       "    <tr>\n",
       "      <th>11</th>\n",
       "      <td>R1190</td>\n",
       "      <td>GCGUACAGGGAACACGCAACCCCGAAGGAUCGGGGAAGGGACGUCG...</td>\n",
       "      <td>2022-08-11</td>\n",
       "      <td>A-4B\\nAdditional Information:        The T1189...</td>\n",
       "      <td>&gt;7YR6_1|Chains A[auth B], B[auth C], C[auth D]...</td>\n",
       "    </tr>\n",
       "  </tbody>\n",
       "</table>\n",
       "</div>"
      ],
      "text/plain": [
       "   target_id                                           sequence  \\\n",
       "0      R1107  GGGGGCCACAGCAGAAGCGUUCACGUCGCAGCCCCUGUCAGCCAUU...   \n",
       "1      R1108  GGGGGCCACAGCAGAAGCGUUCACGUCGCGGCCCCUGUCAGCCAUU...   \n",
       "2      R1116  CGCCCGGAUAGCUCAGUCGGUAGAGCAGCGGCUAAAACAGCUCUGG...   \n",
       "3    R1117v2                     UUGGGUUCCCUCACCCCAAUCAUAAAAAGG   \n",
       "4      R1126  GGAAUCUCGCCCGAUGUUCGCAUCGGGAUUUGCAGGUCCAUGGAUU...   \n",
       "5      R1128  GGAAUAUCGUCAUGGUGAUUCGUCACCAUGAGGCUAGAUCUCAUAU...   \n",
       "6      R1136  GGAUACGUCUACGCUCAGUGACGGACUCUCUUCGGAGAGUCUGACA...   \n",
       "7      R1138  GGGAGAGUACUAUUCAGAUGCAGACCGCAAGUUCAGAGCGGUUUGC...   \n",
       "8      R1149  GGACACGAGUAACUCGUCUAUCUUCUGCAGGCUGCUUACGGUUUCG...   \n",
       "9      R1156  GGAGCAUCGUGUCUCAAGUGCUUCACGGUCACAAUAUACCGUUUCG...   \n",
       "10     R1189  GCGUACAGGGAACACGCAACCCCGAAGGAUCGGGGAAGGGACGUCG...   \n",
       "11     R1190  GCGUACAGGGAACACGCAACCCCGAAGGAUCGGGGAAGGGACGUCG...   \n",
       "\n",
       "   temporal_cutoff                                        description  \\\n",
       "0       2022-05-28  CPEB3 ribozyme\\nHuman\\nhuman CPEB3 HDV-like ri...   \n",
       "1       2022-05-27  CPEB3 ribozyme\\nChimpanzee\\nChimpanzee CPEB3 H...   \n",
       "2       2022-06-04  Cloverleaf RNA\\nPoliovirus\\nCrystal Structure ...   \n",
       "3       2022-06-03  PreQ1 class I type III riboswitch\\nK. pneumoni...   \n",
       "4       2022-06-11  Traptamer\\nSynthetic\\nAdditional Information: ...   \n",
       "5       2022-06-10  6WJ\\nSingle-stranded Paranemic Crossover RNA T...   \n",
       "6       2022-06-18  Apta-FRET\\nAdditional Information:        Info...   \n",
       "7       2022-06-24  6HBC-Young\\nAdditional Information:        Thi...   \n",
       "8       2022-07-02  SARS-CoV-2 SL5\\nAdditional Information:       ...   \n",
       "9       2022-07-07  BtCoV-HKU5 SL5\\nBtCoV-HKU5 5 proximal stem-loo...   \n",
       "10      2022-08-11  A-6B\\nAdditional Information:        The T1189...   \n",
       "11      2022-08-11  A-4B\\nAdditional Information:        The T1189...   \n",
       "\n",
       "                                        all_sequences  \n",
       "0   >7QR4_1|Chain A|U1 small nuclear ribonucleopro...  \n",
       "1   >7QR3_1|Chains A, B|U1 small nuclear ribonucle...  \n",
       "2   >8S95_1|Chain A[auth C]|Lysine tRNA scaffold,P...  \n",
       "3   >8FZA_1|Chains A, B|PreQ1 Riboswitch (30-MER)|...  \n",
       "4   >8TVZ_1|Chain A[auth C]|RNA (363-MER)|syntheti...  \n",
       "5   >8BTZ_1|Chain A|RNA Paranemic croosover triang...  \n",
       "6   >7ZJ4_1|Chain A[auth E]|brocolli-pepper aptame...  \n",
       "7   >7PTK_1|Chain A[auth B]|RNA|synthetic construc...  \n",
       "8   >8UYS_1|Chain A|SARS-CoV-2 RNA SL5 domain.|Sev...  \n",
       "9   >8UYE_1|Chain A|BtCoV-HKU5 5' proximal stem-lo...  \n",
       "10  >7YR7_1|Chains A[auth B], B[auth C], C[auth D]...  \n",
       "11  >7YR6_1|Chains A[auth B], B[auth C], C[auth D]...  "
      ]
     },
     "execution_count": 33,
     "metadata": {},
     "output_type": "execute_result"
    }
   ],
   "source": [
    "df_s = all_data['validation_sequences']\n",
    "\n",
    "df_s"
   ]
  },
  {
   "cell_type": "code",
   "execution_count": 34,
   "metadata": {},
   "outputs": [
    {
     "data": {
      "text/html": [
       "<div>\n",
       "<style scoped>\n",
       "    .dataframe tbody tr th:only-of-type {\n",
       "        vertical-align: middle;\n",
       "    }\n",
       "\n",
       "    .dataframe tbody tr th {\n",
       "        vertical-align: top;\n",
       "    }\n",
       "\n",
       "    .dataframe thead th {\n",
       "        text-align: right;\n",
       "    }\n",
       "</style>\n",
       "<table border=\"1\" class=\"dataframe\">\n",
       "  <thead>\n",
       "    <tr style=\"text-align: right;\">\n",
       "      <th></th>\n",
       "      <th>ID</th>\n",
       "      <th>resname</th>\n",
       "      <th>resid</th>\n",
       "      <th>x_1</th>\n",
       "      <th>y_1</th>\n",
       "      <th>z_1</th>\n",
       "      <th>x_2</th>\n",
       "      <th>y_2</th>\n",
       "      <th>z_2</th>\n",
       "      <th>x_3</th>\n",
       "      <th>...</th>\n",
       "      <th>z_37</th>\n",
       "      <th>x_38</th>\n",
       "      <th>y_38</th>\n",
       "      <th>z_38</th>\n",
       "      <th>x_39</th>\n",
       "      <th>y_39</th>\n",
       "      <th>z_39</th>\n",
       "      <th>x_40</th>\n",
       "      <th>y_40</th>\n",
       "      <th>z_40</th>\n",
       "    </tr>\n",
       "  </thead>\n",
       "  <tbody>\n",
       "    <tr>\n",
       "      <th>0</th>\n",
       "      <td>R1107_1</td>\n",
       "      <td>G</td>\n",
       "      <td>1</td>\n",
       "      <td>-5.499000</td>\n",
       "      <td>8.520000</td>\n",
       "      <td>8.605000</td>\n",
       "      <td>-1.000000e+18</td>\n",
       "      <td>-1.000000e+18</td>\n",
       "      <td>-1.000000e+18</td>\n",
       "      <td>-1.000000e+18</td>\n",
       "      <td>...</td>\n",
       "      <td>-1.000000e+18</td>\n",
       "      <td>-1.000000e+18</td>\n",
       "      <td>-1.000000e+18</td>\n",
       "      <td>-1.000000e+18</td>\n",
       "      <td>-1.000000e+18</td>\n",
       "      <td>-1.000000e+18</td>\n",
       "      <td>-1.000000e+18</td>\n",
       "      <td>-1.000000e+18</td>\n",
       "      <td>-1.000000e+18</td>\n",
       "      <td>-1.000000e+18</td>\n",
       "    </tr>\n",
       "    <tr>\n",
       "      <th>1</th>\n",
       "      <td>R1107_2</td>\n",
       "      <td>G</td>\n",
       "      <td>2</td>\n",
       "      <td>-5.826000</td>\n",
       "      <td>10.453000</td>\n",
       "      <td>14.010000</td>\n",
       "      <td>-1.000000e+18</td>\n",
       "      <td>-1.000000e+18</td>\n",
       "      <td>-1.000000e+18</td>\n",
       "      <td>-1.000000e+18</td>\n",
       "      <td>...</td>\n",
       "      <td>-1.000000e+18</td>\n",
       "      <td>-1.000000e+18</td>\n",
       "      <td>-1.000000e+18</td>\n",
       "      <td>-1.000000e+18</td>\n",
       "      <td>-1.000000e+18</td>\n",
       "      <td>-1.000000e+18</td>\n",
       "      <td>-1.000000e+18</td>\n",
       "      <td>-1.000000e+18</td>\n",
       "      <td>-1.000000e+18</td>\n",
       "      <td>-1.000000e+18</td>\n",
       "    </tr>\n",
       "    <tr>\n",
       "      <th>2</th>\n",
       "      <td>R1107_3</td>\n",
       "      <td>G</td>\n",
       "      <td>3</td>\n",
       "      <td>-5.849000</td>\n",
       "      <td>14.768000</td>\n",
       "      <td>17.584999</td>\n",
       "      <td>-1.000000e+18</td>\n",
       "      <td>-1.000000e+18</td>\n",
       "      <td>-1.000000e+18</td>\n",
       "      <td>-1.000000e+18</td>\n",
       "      <td>...</td>\n",
       "      <td>-1.000000e+18</td>\n",
       "      <td>-1.000000e+18</td>\n",
       "      <td>-1.000000e+18</td>\n",
       "      <td>-1.000000e+18</td>\n",
       "      <td>-1.000000e+18</td>\n",
       "      <td>-1.000000e+18</td>\n",
       "      <td>-1.000000e+18</td>\n",
       "      <td>-1.000000e+18</td>\n",
       "      <td>-1.000000e+18</td>\n",
       "      <td>-1.000000e+18</td>\n",
       "    </tr>\n",
       "    <tr>\n",
       "      <th>3</th>\n",
       "      <td>R1107_4</td>\n",
       "      <td>G</td>\n",
       "      <td>4</td>\n",
       "      <td>-5.784000</td>\n",
       "      <td>19.985001</td>\n",
       "      <td>18.666000</td>\n",
       "      <td>-1.000000e+18</td>\n",
       "      <td>-1.000000e+18</td>\n",
       "      <td>-1.000000e+18</td>\n",
       "      <td>-1.000000e+18</td>\n",
       "      <td>...</td>\n",
       "      <td>-1.000000e+18</td>\n",
       "      <td>-1.000000e+18</td>\n",
       "      <td>-1.000000e+18</td>\n",
       "      <td>-1.000000e+18</td>\n",
       "      <td>-1.000000e+18</td>\n",
       "      <td>-1.000000e+18</td>\n",
       "      <td>-1.000000e+18</td>\n",
       "      <td>-1.000000e+18</td>\n",
       "      <td>-1.000000e+18</td>\n",
       "      <td>-1.000000e+18</td>\n",
       "    </tr>\n",
       "    <tr>\n",
       "      <th>4</th>\n",
       "      <td>R1107_5</td>\n",
       "      <td>G</td>\n",
       "      <td>5</td>\n",
       "      <td>-5.755000</td>\n",
       "      <td>25.533001</td>\n",
       "      <td>17.132999</td>\n",
       "      <td>-1.000000e+18</td>\n",
       "      <td>-1.000000e+18</td>\n",
       "      <td>-1.000000e+18</td>\n",
       "      <td>-1.000000e+18</td>\n",
       "      <td>...</td>\n",
       "      <td>-1.000000e+18</td>\n",
       "      <td>-1.000000e+18</td>\n",
       "      <td>-1.000000e+18</td>\n",
       "      <td>-1.000000e+18</td>\n",
       "      <td>-1.000000e+18</td>\n",
       "      <td>-1.000000e+18</td>\n",
       "      <td>-1.000000e+18</td>\n",
       "      <td>-1.000000e+18</td>\n",
       "      <td>-1.000000e+18</td>\n",
       "      <td>-1.000000e+18</td>\n",
       "    </tr>\n",
       "    <tr>\n",
       "      <th>...</th>\n",
       "      <td>...</td>\n",
       "      <td>...</td>\n",
       "      <td>...</td>\n",
       "      <td>...</td>\n",
       "      <td>...</td>\n",
       "      <td>...</td>\n",
       "      <td>...</td>\n",
       "      <td>...</td>\n",
       "      <td>...</td>\n",
       "      <td>...</td>\n",
       "      <td>...</td>\n",
       "      <td>...</td>\n",
       "      <td>...</td>\n",
       "      <td>...</td>\n",
       "      <td>...</td>\n",
       "      <td>...</td>\n",
       "      <td>...</td>\n",
       "      <td>...</td>\n",
       "      <td>...</td>\n",
       "      <td>...</td>\n",
       "      <td>...</td>\n",
       "    </tr>\n",
       "    <tr>\n",
       "      <th>2510</th>\n",
       "      <td>R1190_114</td>\n",
       "      <td>U</td>\n",
       "      <td>114</td>\n",
       "      <td>87.870003</td>\n",
       "      <td>105.432999</td>\n",
       "      <td>115.183998</td>\n",
       "      <td>-1.000000e+18</td>\n",
       "      <td>-1.000000e+18</td>\n",
       "      <td>-1.000000e+18</td>\n",
       "      <td>-1.000000e+18</td>\n",
       "      <td>...</td>\n",
       "      <td>-1.000000e+18</td>\n",
       "      <td>-1.000000e+18</td>\n",
       "      <td>-1.000000e+18</td>\n",
       "      <td>-1.000000e+18</td>\n",
       "      <td>-1.000000e+18</td>\n",
       "      <td>-1.000000e+18</td>\n",
       "      <td>-1.000000e+18</td>\n",
       "      <td>-1.000000e+18</td>\n",
       "      <td>-1.000000e+18</td>\n",
       "      <td>-1.000000e+18</td>\n",
       "    </tr>\n",
       "    <tr>\n",
       "      <th>2511</th>\n",
       "      <td>R1190_115</td>\n",
       "      <td>U</td>\n",
       "      <td>115</td>\n",
       "      <td>92.911003</td>\n",
       "      <td>105.394997</td>\n",
       "      <td>113.741997</td>\n",
       "      <td>-1.000000e+18</td>\n",
       "      <td>-1.000000e+18</td>\n",
       "      <td>-1.000000e+18</td>\n",
       "      <td>-1.000000e+18</td>\n",
       "      <td>...</td>\n",
       "      <td>-1.000000e+18</td>\n",
       "      <td>-1.000000e+18</td>\n",
       "      <td>-1.000000e+18</td>\n",
       "      <td>-1.000000e+18</td>\n",
       "      <td>-1.000000e+18</td>\n",
       "      <td>-1.000000e+18</td>\n",
       "      <td>-1.000000e+18</td>\n",
       "      <td>-1.000000e+18</td>\n",
       "      <td>-1.000000e+18</td>\n",
       "      <td>-1.000000e+18</td>\n",
       "    </tr>\n",
       "    <tr>\n",
       "      <th>2512</th>\n",
       "      <td>R1190_116</td>\n",
       "      <td>U</td>\n",
       "      <td>116</td>\n",
       "      <td>99.012001</td>\n",
       "      <td>105.749001</td>\n",
       "      <td>113.073997</td>\n",
       "      <td>-1.000000e+18</td>\n",
       "      <td>-1.000000e+18</td>\n",
       "      <td>-1.000000e+18</td>\n",
       "      <td>-1.000000e+18</td>\n",
       "      <td>...</td>\n",
       "      <td>-1.000000e+18</td>\n",
       "      <td>-1.000000e+18</td>\n",
       "      <td>-1.000000e+18</td>\n",
       "      <td>-1.000000e+18</td>\n",
       "      <td>-1.000000e+18</td>\n",
       "      <td>-1.000000e+18</td>\n",
       "      <td>-1.000000e+18</td>\n",
       "      <td>-1.000000e+18</td>\n",
       "      <td>-1.000000e+18</td>\n",
       "      <td>-1.000000e+18</td>\n",
       "    </tr>\n",
       "    <tr>\n",
       "      <th>2513</th>\n",
       "      <td>R1190_117</td>\n",
       "      <td>U</td>\n",
       "      <td>117</td>\n",
       "      <td>103.861000</td>\n",
       "      <td>103.453003</td>\n",
       "      <td>114.589996</td>\n",
       "      <td>-1.000000e+18</td>\n",
       "      <td>-1.000000e+18</td>\n",
       "      <td>-1.000000e+18</td>\n",
       "      <td>-1.000000e+18</td>\n",
       "      <td>...</td>\n",
       "      <td>-1.000000e+18</td>\n",
       "      <td>-1.000000e+18</td>\n",
       "      <td>-1.000000e+18</td>\n",
       "      <td>-1.000000e+18</td>\n",
       "      <td>-1.000000e+18</td>\n",
       "      <td>-1.000000e+18</td>\n",
       "      <td>-1.000000e+18</td>\n",
       "      <td>-1.000000e+18</td>\n",
       "      <td>-1.000000e+18</td>\n",
       "      <td>-1.000000e+18</td>\n",
       "    </tr>\n",
       "    <tr>\n",
       "      <th>2514</th>\n",
       "      <td>R1190_118</td>\n",
       "      <td>U</td>\n",
       "      <td>118</td>\n",
       "      <td>106.745003</td>\n",
       "      <td>95.313004</td>\n",
       "      <td>112.320999</td>\n",
       "      <td>-1.000000e+18</td>\n",
       "      <td>-1.000000e+18</td>\n",
       "      <td>-1.000000e+18</td>\n",
       "      <td>-1.000000e+18</td>\n",
       "      <td>...</td>\n",
       "      <td>-1.000000e+18</td>\n",
       "      <td>-1.000000e+18</td>\n",
       "      <td>-1.000000e+18</td>\n",
       "      <td>-1.000000e+18</td>\n",
       "      <td>-1.000000e+18</td>\n",
       "      <td>-1.000000e+18</td>\n",
       "      <td>-1.000000e+18</td>\n",
       "      <td>-1.000000e+18</td>\n",
       "      <td>-1.000000e+18</td>\n",
       "      <td>-1.000000e+18</td>\n",
       "    </tr>\n",
       "  </tbody>\n",
       "</table>\n",
       "<p>2515 rows × 123 columns</p>\n",
       "</div>"
      ],
      "text/plain": [
       "             ID resname  resid         x_1         y_1         z_1  \\\n",
       "0       R1107_1       G      1   -5.499000    8.520000    8.605000   \n",
       "1       R1107_2       G      2   -5.826000   10.453000   14.010000   \n",
       "2       R1107_3       G      3   -5.849000   14.768000   17.584999   \n",
       "3       R1107_4       G      4   -5.784000   19.985001   18.666000   \n",
       "4       R1107_5       G      5   -5.755000   25.533001   17.132999   \n",
       "...         ...     ...    ...         ...         ...         ...   \n",
       "2510  R1190_114       U    114   87.870003  105.432999  115.183998   \n",
       "2511  R1190_115       U    115   92.911003  105.394997  113.741997   \n",
       "2512  R1190_116       U    116   99.012001  105.749001  113.073997   \n",
       "2513  R1190_117       U    117  103.861000  103.453003  114.589996   \n",
       "2514  R1190_118       U    118  106.745003   95.313004  112.320999   \n",
       "\n",
       "               x_2           y_2           z_2           x_3  ...  \\\n",
       "0    -1.000000e+18 -1.000000e+18 -1.000000e+18 -1.000000e+18  ...   \n",
       "1    -1.000000e+18 -1.000000e+18 -1.000000e+18 -1.000000e+18  ...   \n",
       "2    -1.000000e+18 -1.000000e+18 -1.000000e+18 -1.000000e+18  ...   \n",
       "3    -1.000000e+18 -1.000000e+18 -1.000000e+18 -1.000000e+18  ...   \n",
       "4    -1.000000e+18 -1.000000e+18 -1.000000e+18 -1.000000e+18  ...   \n",
       "...            ...           ...           ...           ...  ...   \n",
       "2510 -1.000000e+18 -1.000000e+18 -1.000000e+18 -1.000000e+18  ...   \n",
       "2511 -1.000000e+18 -1.000000e+18 -1.000000e+18 -1.000000e+18  ...   \n",
       "2512 -1.000000e+18 -1.000000e+18 -1.000000e+18 -1.000000e+18  ...   \n",
       "2513 -1.000000e+18 -1.000000e+18 -1.000000e+18 -1.000000e+18  ...   \n",
       "2514 -1.000000e+18 -1.000000e+18 -1.000000e+18 -1.000000e+18  ...   \n",
       "\n",
       "              z_37          x_38          y_38          z_38          x_39  \\\n",
       "0    -1.000000e+18 -1.000000e+18 -1.000000e+18 -1.000000e+18 -1.000000e+18   \n",
       "1    -1.000000e+18 -1.000000e+18 -1.000000e+18 -1.000000e+18 -1.000000e+18   \n",
       "2    -1.000000e+18 -1.000000e+18 -1.000000e+18 -1.000000e+18 -1.000000e+18   \n",
       "3    -1.000000e+18 -1.000000e+18 -1.000000e+18 -1.000000e+18 -1.000000e+18   \n",
       "4    -1.000000e+18 -1.000000e+18 -1.000000e+18 -1.000000e+18 -1.000000e+18   \n",
       "...            ...           ...           ...           ...           ...   \n",
       "2510 -1.000000e+18 -1.000000e+18 -1.000000e+18 -1.000000e+18 -1.000000e+18   \n",
       "2511 -1.000000e+18 -1.000000e+18 -1.000000e+18 -1.000000e+18 -1.000000e+18   \n",
       "2512 -1.000000e+18 -1.000000e+18 -1.000000e+18 -1.000000e+18 -1.000000e+18   \n",
       "2513 -1.000000e+18 -1.000000e+18 -1.000000e+18 -1.000000e+18 -1.000000e+18   \n",
       "2514 -1.000000e+18 -1.000000e+18 -1.000000e+18 -1.000000e+18 -1.000000e+18   \n",
       "\n",
       "              y_39          z_39          x_40          y_40          z_40  \n",
       "0    -1.000000e+18 -1.000000e+18 -1.000000e+18 -1.000000e+18 -1.000000e+18  \n",
       "1    -1.000000e+18 -1.000000e+18 -1.000000e+18 -1.000000e+18 -1.000000e+18  \n",
       "2    -1.000000e+18 -1.000000e+18 -1.000000e+18 -1.000000e+18 -1.000000e+18  \n",
       "3    -1.000000e+18 -1.000000e+18 -1.000000e+18 -1.000000e+18 -1.000000e+18  \n",
       "4    -1.000000e+18 -1.000000e+18 -1.000000e+18 -1.000000e+18 -1.000000e+18  \n",
       "...            ...           ...           ...           ...           ...  \n",
       "2510 -1.000000e+18 -1.000000e+18 -1.000000e+18 -1.000000e+18 -1.000000e+18  \n",
       "2511 -1.000000e+18 -1.000000e+18 -1.000000e+18 -1.000000e+18 -1.000000e+18  \n",
       "2512 -1.000000e+18 -1.000000e+18 -1.000000e+18 -1.000000e+18 -1.000000e+18  \n",
       "2513 -1.000000e+18 -1.000000e+18 -1.000000e+18 -1.000000e+18 -1.000000e+18  \n",
       "2514 -1.000000e+18 -1.000000e+18 -1.000000e+18 -1.000000e+18 -1.000000e+18  \n",
       "\n",
       "[2515 rows x 123 columns]"
      ]
     },
     "execution_count": 34,
     "metadata": {},
     "output_type": "execute_result"
    }
   ],
   "source": [
    "df_l = all_data['validation_labels']\n",
    "df_l\n"
   ]
  },
  {
   "cell_type": "code",
   "execution_count": null,
   "metadata": {},
   "outputs": [],
   "source": []
  }
 ],
 "metadata": {
  "kernelspec": {
   "display_name": "rna-folding-ZH6bPZMd-py3.12",
   "language": "python",
   "name": "python3"
  },
  "language_info": {
   "codemirror_mode": {
    "name": "ipython",
    "version": 3
   },
   "file_extension": ".py",
   "mimetype": "text/x-python",
   "name": "python",
   "nbconvert_exporter": "python",
   "pygments_lexer": "ipython3",
   "version": "3.12.3"
  }
 },
 "nbformat": 4,
 "nbformat_minor": 2
}
